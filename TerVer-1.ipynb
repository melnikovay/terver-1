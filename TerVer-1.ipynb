{
 "cells": [
  {
   "attachments": {},
   "cell_type": "markdown",
   "metadata": {},
   "source": [
    "Задача 1\n",
    "Из колоды в 52 карты вынимают случайным образом 4 карты. Найти число исходов, соответствующих тому, что был вытянут хотя бы один туз."
   ]
  },
  {
   "cell_type": "markdown",
   "metadata": {},
   "source": [
    "Ckn=n!/k!(n−k)!\n"
   ]
  },
  {
   "cell_type": "code",
   "execution_count": 12,
   "metadata": {},
   "outputs": [],
   "source": [
    "import numpy as np\n",
    "from math import factorial\n",
    "def combinations(n, k):\n",
    "    return int(factorial(n) / (factorial(k) * factorial(n - k)))"
   ]
  },
  {
   "cell_type": "code",
   "execution_count": 13,
   "metadata": {},
   "outputs": [
    {
     "name": "stdout",
     "output_type": "stream",
     "text": [
      "76145\n"
     ]
    }
   ],
   "source": [
    "C1 = combinations(4,1) * combinations(48,3)\n",
    "C2 = combinations(4,2) * combinations(48,2)\n",
    "C3 = combinations(4,3) * combinations(48,1)\n",
    "C4 = combinations(4,4) * combinations(48,0)\n",
    "C = C1 +C2+C3+C4\n",
    "print (C)"
   ]
  },
  {
   "cell_type": "markdown",
   "metadata": {},
   "source": [
    "Ответ:76145"
   ]
  },
  {
   "cell_type": "markdown",
   "metadata": {},
   "source": [
    "Задача 2\n",
    "Семь человек рассаживаются наудачу на скамейке. Какова вероятность того, что рядом будут сидеть: а) два определённых человека? б) три определённых человека?\n"
   ]
  },
  {
   "cell_type": "markdown",
   "metadata": {},
   "source": [
    "Общее число исходов 7!\n",
    "P(A) = 12*5!/7!\n",
    "P(B) = 5*6*4!/7!"
   ]
  },
  {
   "cell_type": "code",
   "execution_count": 16,
   "metadata": {},
   "outputs": [
    {
     "name": "stdout",
     "output_type": "stream",
     "text": [
      "0.2857142857142857\n"
     ]
    }
   ],
   "source": [
    "P1 = 12 * factorial(5) / factorial(7)\n",
    "print(P1)"
   ]
  },
  {
   "cell_type": "code",
   "execution_count": 17,
   "metadata": {},
   "outputs": [
    {
     "name": "stdout",
     "output_type": "stream",
     "text": [
      "0.14285714285714285\n"
     ]
    }
   ],
   "source": [
    "P2 = 5*6* factorial(4) / factorial(7)\n",
    "print(P2)"
   ]
  },
  {
   "cell_type": "markdown",
   "metadata": {},
   "source": [
    "Задача 3\n",
    "Из 60 вопросов, входящих в экзаменационные билеты, студент знает 50. Какова вероятность того, что среди трёх наугад выбранных вопросов студент знает: а) все? б) два?"
   ]
  },
  {
   "cell_type": "code",
   "execution_count": 19,
   "metadata": {},
   "outputs": [
    {
     "name": "stdout",
     "output_type": "stream",
     "text": [
      "19600\n",
      "12250\n"
     ]
    }
   ],
   "source": [
    "C1 = combinations(50,3)\n",
    "print(C1)\n",
    "C2 = combinations(50,2)*combinations(10,1)\n",
    "print(C2)\n",
    "C3 = combinations(60,3)"
   ]
  },
  {
   "cell_type": "code",
   "execution_count": 21,
   "metadata": {},
   "outputs": [
    {
     "name": "stdout",
     "output_type": "stream",
     "text": [
      "0.5727644652250146\n",
      "0.35797779076563413\n"
     ]
    }
   ],
   "source": [
    "P1 = C1 / C3\n",
    "print(P1)\n",
    "P2 = C2 / C3\n",
    "print(P2)"
   ]
  },
  {
   "cell_type": "markdown",
   "metadata": {},
   "source": [
    "\n",
    "Задача 4\n",
    "Бросается игральная кость. Пусть событие A - появление чётного числа, событие B - появление числа больше трёх. Являются ли эти события независимыми?\n",
    "\n",
    "События являются независимыми, если P(A|B) = P(A)\n",
    "\n",
    "P1 = P(A)\n",
    "P2 = P(A|B)\n"
   ]
  },
  {
   "cell_type": "code",
   "execution_count": 23,
   "metadata": {},
   "outputs": [
    {
     "name": "stdout",
     "output_type": "stream",
     "text": [
      "0.5\n",
      "0.6666666666666666\n"
     ]
    }
   ],
   "source": [
    "P1 = 1/2\n",
    "P2 = 2/3\n",
    "print (P1)\n",
    "print (P2)"
   ]
  },
  {
   "cell_type": "code",
   "execution_count": null,
   "metadata": {},
   "outputs": [],
   "source": [
    "Ответ: События А и B зависимы"
   ]
  },
  {
   "cell_type": "markdown",
   "metadata": {},
   "source": [
    "Задача 5\n",
    "Допустим, имеется некоторая очень редкая болезнь (поражает 0.1% населения). Вы приходите к врачу, вам делают тест на эту болезнь, и тест оказывается положительным. Врач говорит вам, что этот тест верно выявляет 99% больных этой болезнью и всего лишь в 1% случаев даёт ложный положительный ответ.\n",
    "Вопрос: какова вероятность, что вы действительно больны ей?\n",
    "Подсказка: вновь используйте формулу Байеса с раскрытием знаменателя с помощью формулы полной вероятности.\n",
    "\n",
    "P(A)=P(B1)⋅P(A|B1)+P(B2)⋅P(A|B2)+...+P(Bn)⋅P(A|Bn)\n",
    "А - человек болен\n",
    "B - Тест положительный\n",
    "формула Байеса \n",
    "Вероятность, что ч. болен при положительном тесте\n",
    "P(A|B) = P(A)* P(B|A)/P(B)\n",
    "\n",
    "P1 = P(A) = 0.001\n",
    "Вероятность положительного теста, если чел. болен\n",
    "P2 = P(B|A) = 0.99\n",
    "P3 = P(A2) -  вероятность что чел. не болен = 0,999\n",
    "P4 = P(B|A2) - Вероятность ложноположит. теста 0.01\n",
    "P5 = P(B)=P(A)⋅P(B|A)+P(A2)⋅P(В|A2)\n"
   ]
  },
  {
   "cell_type": "code",
   "execution_count": 24,
   "metadata": {},
   "outputs": [
    {
     "name": "stdout",
     "output_type": "stream",
     "text": [
      "0.09016393442622951\n"
     ]
    }
   ],
   "source": [
    "P1 = 0.001\n",
    "P2 = 0.99\n",
    "P3 = 0.999\n",
    "P4 = 0.01\n",
    "P5 = P1*P2 + P3*P4\n",
    "P = P1*P2/P5\n",
    "print(P)"
   ]
  },
  {
   "cell_type": "code",
   "execution_count": null,
   "metadata": {},
   "outputs": [],
   "source": []
  }
 ],
 "metadata": {
  "kernelspec": {
   "display_name": "Python 3",
   "language": "python",
   "name": "python3"
  },
  "language_info": {
   "codemirror_mode": {
    "name": "ipython",
    "version": 3
   },
   "file_extension": ".py",
   "mimetype": "text/x-python",
   "name": "python",
   "nbconvert_exporter": "python",
   "pygments_lexer": "ipython3",
   "version": "3.7.3"
  }
 },
 "nbformat": 4,
 "nbformat_minor": 2
}
